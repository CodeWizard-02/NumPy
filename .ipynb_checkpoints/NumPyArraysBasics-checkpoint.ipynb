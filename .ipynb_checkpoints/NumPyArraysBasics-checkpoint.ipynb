{
 "cells": [
  {
   "cell_type": "code",
   "execution_count": 4,
   "id": "94af4fb8-7fe3-47ff-b41b-da529adeb76a",
   "metadata": {},
   "outputs": [],
   "source": [
    "# library\n",
    "import numpy as np"
   ]
  },
  {
   "cell_type": "markdown",
   "id": "379af0b7-61fe-4732-8c39-32ed3b1c2c53",
   "metadata": {},
   "source": [
    "## Array creation"
   ]
  },
  {
   "cell_type": "code",
   "execution_count": 5,
   "id": "2154799c-4903-4ca5-9786-4b1e1731ff76",
   "metadata": {},
   "outputs": [
    {
     "data": {
      "text/plain": [
       "array([1, 2, 3, 4])"
      ]
     },
     "execution_count": 5,
     "metadata": {},
     "output_type": "execute_result"
    }
   ],
   "source": [
    "arr = np.array([1,2,3,4])\n",
    "arr"
   ]
  },
  {
   "cell_type": "code",
   "execution_count": 6,
   "id": "a5bc73a0-6d1e-4787-bac5-775066a9b864",
   "metadata": {},
   "outputs": [
    {
     "data": {
      "text/plain": [
       "[6, 7, 8, 9]"
      ]
     },
     "execution_count": 6,
     "metadata": {},
     "output_type": "execute_result"
    }
   ],
   "source": [
    "a = [6,7,8,9]\n",
    "a"
   ]
  },
  {
   "cell_type": "code",
   "execution_count": 8,
   "id": "ec03984a-be8c-441d-ad71-5e0f89b1ceaf",
   "metadata": {},
   "outputs": [
    {
     "name": "stdout",
     "output_type": "stream",
     "text": [
      "<class 'numpy.ndarray'>\n",
      "<class 'list'>\n"
     ]
    }
   ],
   "source": [
    "print(type(arr))\n",
    "print(type(a))"
   ]
  },
  {
   "cell_type": "markdown",
   "id": "a51df68f-d2a5-4a6e-bca8-de29914913cb",
   "metadata": {},
   "source": [
    "## 1d And 2D arrays"
   ]
  },
  {
   "cell_type": "code",
   "execution_count": 11,
   "id": "30b56b2b-b6b6-45d5-a090-a5f36f060ccb",
   "metadata": {},
   "outputs": [
    {
     "data": {
      "text/plain": [
       "[1, 2, 3, 4]"
      ]
     },
     "execution_count": 11,
     "metadata": {},
     "output_type": "execute_result"
    }
   ],
   "source": [
    "# normal 1d lists\n",
    "list = [1,2,3,4]\n",
    "list"
   ]
  },
  {
   "cell_type": "code",
   "execution_count": 13,
   "id": "b08386bb-913e-49e9-817e-e03ec40dd7f8",
   "metadata": {},
   "outputs": [
    {
     "data": {
      "text/plain": [
       "[[1, 2, 3], [4, 5, 6], [7, 8, 9]]"
      ]
     },
     "execution_count": 13,
     "metadata": {},
     "output_type": "execute_result"
    }
   ],
   "source": [
    "# 2d lists in lists\n",
    "list2 = [[1,2,3],[4,5,6],[7,8,9]]\n",
    "list2"
   ]
  },
  {
   "cell_type": "code",
   "execution_count": 14,
   "id": "d52068db-56db-4978-a2f0-87ec31a136b3",
   "metadata": {},
   "outputs": [
    {
     "data": {
      "text/plain": [
       "[1, 2, 3, 4, 5]"
      ]
     },
     "execution_count": 14,
     "metadata": {},
     "output_type": "execute_result"
    }
   ],
   "source": [
    "# vector in NumPy\n",
    "arr = [1,2,3,4,5]\n",
    "arr"
   ]
  },
  {
   "cell_type": "code",
   "execution_count": 17,
   "id": "936ef3d7-98d0-4b82-810e-f5468d1cecb7",
   "metadata": {},
   "outputs": [
    {
     "data": {
      "text/plain": [
       "array([[1, 2, 3],\n",
       "       [4, 5, 6],\n",
       "       [7, 8, 9]])"
      ]
     },
     "execution_count": 17,
     "metadata": {},
     "output_type": "execute_result"
    }
   ],
   "source": [
    "# 2d list or matrix in NumPy\n",
    "arr1 = np.array([[1,2,3], [4,5,6], [7,8,9]])\n",
    "arr1"
   ]
  },
  {
   "cell_type": "markdown",
   "id": "9893d275-7800-49a7-ba41-b113c9001654",
   "metadata": {},
   "source": [
    "## Array generation functions"
   ]
  },
  {
   "cell_type": "code",
   "execution_count": 19,
   "id": "50ec7611-9411-48f5-ab03-01fd6494403b",
   "metadata": {},
   "outputs": [
    {
     "data": {
      "text/plain": [
       "array([ 1,  2,  3,  4,  5,  6,  7,  8,  9, 10])"
      ]
     },
     "execution_count": 19,
     "metadata": {},
     "output_type": "execute_result"
    }
   ],
   "source": [
    "# generate range of arrays\n",
    "arr = np.arange(1,11)\n",
    "arr"
   ]
  },
  {
   "cell_type": "code",
   "execution_count": 24,
   "id": "c6164bfb-ad66-4d52-9fd0-ef3744aa0796",
   "metadata": {},
   "outputs": [
    {
     "data": {
      "text/plain": [
       "array([0., 0., 0., 0., 0., 0.])"
      ]
     },
     "execution_count": 24,
     "metadata": {},
     "output_type": "execute_result"
    }
   ],
   "source": [
    "# generate vector arrays of zeroes\n",
    "arr = np.zeros(6)\n",
    "arr"
   ]
  },
  {
   "cell_type": "code",
   "execution_count": 27,
   "id": "3458c662-2560-41f5-811e-3359bb4b38e1",
   "metadata": {},
   "outputs": [
    {
     "data": {
      "text/plain": [
       "array([[0., 0., 0., 0.],\n",
       "       [0., 0., 0., 0.],\n",
       "       [0., 0., 0., 0.],\n",
       "       [0., 0., 0., 0.]])"
      ]
     },
     "execution_count": 27,
     "metadata": {},
     "output_type": "execute_result"
    }
   ],
   "source": [
    "# generate matrix of zeroes\n",
    "arr = np.zeros((4,4))\n",
    "arr"
   ]
  },
  {
   "cell_type": "code",
   "execution_count": 28,
   "id": "e5eb18af-d2ef-4bb5-aed0-dc6b8cbf88e3",
   "metadata": {},
   "outputs": [
    {
     "data": {
      "text/plain": [
       "array([1., 1., 1., 1., 1.])"
      ]
     },
     "execution_count": 28,
     "metadata": {},
     "output_type": "execute_result"
    }
   ],
   "source": [
    "# generate ones of vector\n",
    "arr = np.ones(5)\n",
    "arr"
   ]
  },
  {
   "cell_type": "code",
   "execution_count": 29,
   "id": "c4d4a1c8-d191-4f66-8ca9-ffe8b1d9c599",
   "metadata": {},
   "outputs": [
    {
     "data": {
      "text/plain": [
       "array([[1., 1., 1., 1.],\n",
       "       [1., 1., 1., 1.],\n",
       "       [1., 1., 1., 1.],\n",
       "       [1., 1., 1., 1.]])"
      ]
     },
     "execution_count": 29,
     "metadata": {},
     "output_type": "execute_result"
    }
   ],
   "source": [
    "# generate matrix of ones\n",
    "arr = np.ones((4,4))\n",
    "arr"
   ]
  },
  {
   "cell_type": "code",
   "execution_count": 33,
   "id": "331a4aae-6580-4eea-8250-938671e302ad",
   "metadata": {},
   "outputs": [
    {
     "data": {
      "text/plain": [
       "array([ 1. ,  5.5, 10. ])"
      ]
     },
     "execution_count": 33,
     "metadata": {},
     "output_type": "execute_result"
    }
   ],
   "source": [
    "# linspace\n",
    "arr = np.linspace(1, 10, 3)\n",
    "arr"
   ]
  },
  {
   "cell_type": "markdown",
   "id": "b571b8f9-b36b-4712-be22-b6ed76868f24",
   "metadata": {},
   "source": [
    "## Random Generation functions"
   ]
  },
  {
   "cell_type": "code",
   "execution_count": 35,
   "id": "c05d974b-95ec-42e6-bf60-c47dd0267862",
   "metadata": {},
   "outputs": [
    {
     "data": {
      "text/plain": [
       "array([0.6339885 , 0.72106629, 0.36306291, 0.4471096 , 0.71706842,\n",
       "       0.51109978, 0.15099042, 0.74612694, 0.73600739, 0.33274671])"
      ]
     },
     "execution_count": 35,
     "metadata": {},
     "output_type": "execute_result"
    }
   ],
   "source": [
    "# generate random elements(normalized)\n",
    "arr = np.random.rand(10)\n",
    "arr"
   ]
  },
  {
   "cell_type": "code",
   "execution_count": 37,
   "id": "4702f446-cc31-4bf4-8cb8-e4f6525e443f",
   "metadata": {},
   "outputs": [
    {
     "data": {
      "text/plain": [
       "array([-0.28634966, -0.03689448,  1.39504822,  3.10220543,  0.30248158,\n",
       "        0.0404466 ,  1.2674377 , -0.38309261,  0.44584079,  0.65042886])"
      ]
     },
     "execution_count": 37,
     "metadata": {},
     "output_type": "execute_result"
    }
   ],
   "source": [
    "# generate random elements(standardized)\n",
    "arr = np.random.randn(10)\n",
    "arr"
   ]
  },
  {
   "cell_type": "code",
   "execution_count": 38,
   "id": "85380c12-3426-4102-aa4d-6e9119e2661d",
   "metadata": {},
   "outputs": [
    {
     "data": {
      "text/plain": [
       "4"
      ]
     },
     "execution_count": 38,
     "metadata": {},
     "output_type": "execute_result"
    }
   ],
   "source": [
    "# generate random integers(single)\n",
    "arr = np.random.randint(6)\n",
    "arr"
   ]
  },
  {
   "cell_type": "code",
   "execution_count": 39,
   "id": "9a672f3a-7323-4dc9-8e44-5894ebb47b9a",
   "metadata": {},
   "outputs": [
    {
     "data": {
      "text/plain": [
       "array([3, 0, 8, 0, 5])"
      ]
     },
     "execution_count": 39,
     "metadata": {},
     "output_type": "execute_result"
    }
   ],
   "source": [
    "# generate random integers(multiple)\n",
    "arr = np.random.randint(0, 10, 5)\n",
    "arr"
   ]
  },
  {
   "cell_type": "markdown",
   "id": "2e5fade5-2c15-482a-974b-89be2cd4539d",
   "metadata": {},
   "source": [
    "## Array attributes"
   ]
  },
  {
   "cell_type": "code",
   "execution_count": 41,
   "id": "d28dca13-65c4-4df2-98d3-f24776d1232f",
   "metadata": {},
   "outputs": [
    {
     "data": {
      "text/plain": [
       "array([[1, 2, 3],\n",
       "       [4, 5, 6],\n",
       "       [7, 8, 9]])"
      ]
     },
     "execution_count": 41,
     "metadata": {},
     "output_type": "execute_result"
    }
   ],
   "source": [
    "arr = np.array([[1,2,3], [4,5,6], [7,8,9]])\n",
    "arr"
   ]
  },
  {
   "cell_type": "code",
   "execution_count": 44,
   "id": "3af952f8-2dea-4545-b2c5-f0ca92e4d391",
   "metadata": {},
   "outputs": [
    {
     "data": {
      "text/plain": [
       "(3, 3)"
      ]
     },
     "execution_count": 44,
     "metadata": {},
     "output_type": "execute_result"
    }
   ],
   "source": [
    "# no of rows and columns\n",
    "arr.shape"
   ]
  },
  {
   "cell_type": "code",
   "execution_count": 45,
   "id": "72121f2b-69e6-4f08-a6e0-df998fc1dca3",
   "metadata": {},
   "outputs": [
    {
     "data": {
      "text/plain": [
       "9"
      ]
     },
     "execution_count": 45,
     "metadata": {},
     "output_type": "execute_result"
    }
   ],
   "source": [
    "# no of elements\n",
    "arr.size"
   ]
  },
  {
   "cell_type": "code",
   "execution_count": 46,
   "id": "63052bcb-b072-4914-9623-5ecb63434404",
   "metadata": {},
   "outputs": [
    {
     "data": {
      "text/plain": [
       "dtype('int64')"
      ]
     },
     "execution_count": 46,
     "metadata": {},
     "output_type": "execute_result"
    }
   ],
   "source": [
    "# datatype of array\n",
    "arr.dtype"
   ]
  },
  {
   "cell_type": "markdown",
   "id": "00dae486-914a-4954-8868-f6d44b98453a",
   "metadata": {},
   "source": [
    "## Array methods"
   ]
  },
  {
   "cell_type": "code",
   "execution_count": 47,
   "id": "1916371c-13be-4ebe-9a24-dd04906d2e4d",
   "metadata": {},
   "outputs": [
    {
     "data": {
      "text/plain": [
       "array([[1, 2, 3],\n",
       "       [4, 5, 6],\n",
       "       [7, 8, 9]])"
      ]
     },
     "execution_count": 47,
     "metadata": {},
     "output_type": "execute_result"
    }
   ],
   "source": [
    "arr"
   ]
  },
  {
   "cell_type": "code",
   "execution_count": 51,
   "id": "f361dcc6-6e02-4fab-9e5c-6a0d072a3d8e",
   "metadata": {},
   "outputs": [
    {
     "data": {
      "text/plain": [
       "np.int64(1)"
      ]
     },
     "execution_count": 51,
     "metadata": {},
     "output_type": "execute_result"
    }
   ],
   "source": [
    "# minimum value of array\n",
    "arr.min()"
   ]
  },
  {
   "cell_type": "code",
   "execution_count": 52,
   "id": "bbbec391-e52e-4d2c-aca8-c0edd1edbf2f",
   "metadata": {},
   "outputs": [
    {
     "data": {
      "text/plain": [
       "np.int64(9)"
      ]
     },
     "execution_count": 52,
     "metadata": {},
     "output_type": "execute_result"
    }
   ],
   "source": [
    "# maximum value of array\n",
    "arr.max()"
   ]
  },
  {
   "cell_type": "code",
   "execution_count": 53,
   "id": "4cddbcec-aca3-40dd-8d9d-b9d77e1050cd",
   "metadata": {},
   "outputs": [
    {
     "data": {
      "text/plain": [
       "np.int64(45)"
      ]
     },
     "execution_count": 53,
     "metadata": {},
     "output_type": "execute_result"
    }
   ],
   "source": [
    "# sum of all elements\n",
    "arr.sum()"
   ]
  },
  {
   "cell_type": "code",
   "execution_count": 56,
   "id": "317b3014-6c96-45a5-8a0e-b55a77cb731d",
   "metadata": {},
   "outputs": [
    {
     "data": {
      "text/plain": [
       "array([12, 15, 18])"
      ]
     },
     "execution_count": 56,
     "metadata": {},
     "output_type": "execute_result"
    }
   ],
   "source": [
    "# column wise sum\n",
    "np.sum(arr, axis = 0)"
   ]
  },
  {
   "cell_type": "code",
   "execution_count": 57,
   "id": "05bcc45a-17bb-41ff-aef8-c07872171e3a",
   "metadata": {},
   "outputs": [
    {
     "data": {
      "text/plain": [
       "array([ 6, 15, 24])"
      ]
     },
     "execution_count": 57,
     "metadata": {},
     "output_type": "execute_result"
    }
   ],
   "source": [
    "# row wise sum\n",
    "np.sum(arr, axis = 1)"
   ]
  },
  {
   "cell_type": "code",
   "execution_count": 58,
   "id": "d27ed43f-649a-4d07-8b20-e610131a102b",
   "metadata": {},
   "outputs": [
    {
     "data": {
      "text/plain": [
       "np.float64(5.0)"
      ]
     },
     "execution_count": 58,
     "metadata": {},
     "output_type": "execute_result"
    }
   ],
   "source": [
    "# mean of array\n",
    "arr.mean()"
   ]
  },
  {
   "cell_type": "code",
   "execution_count": 59,
   "id": "e335c62f-ffa7-4fa3-b33a-5ab79e7698b3",
   "metadata": {},
   "outputs": [
    {
     "data": {
      "text/plain": [
       "np.float64(2.581988897471611)"
      ]
     },
     "execution_count": 59,
     "metadata": {},
     "output_type": "execute_result"
    }
   ],
   "source": [
    "# standard deviation\n",
    "arr.std()"
   ]
  },
  {
   "cell_type": "code",
   "execution_count": 61,
   "id": "9cc7b616-a673-4857-8e54-40b7ae2e352d",
   "metadata": {},
   "outputs": [
    {
     "data": {
      "text/plain": [
       "np.int64(8)"
      ]
     },
     "execution_count": 61,
     "metadata": {},
     "output_type": "execute_result"
    }
   ],
   "source": [
    "# argmax\n",
    "arr.argmax()"
   ]
  },
  {
   "cell_type": "code",
   "execution_count": 62,
   "id": "61f468ee-8c9f-4858-857e-01815c2eed7d",
   "metadata": {},
   "outputs": [
    {
     "data": {
      "text/plain": [
       "np.int64(0)"
      ]
     },
     "execution_count": 62,
     "metadata": {},
     "output_type": "execute_result"
    }
   ],
   "source": [
    "# argmin\n",
    "arr.argmin()"
   ]
  },
  {
   "cell_type": "markdown",
   "id": "7436ad16-e0e6-4464-81d1-2f9ae2b2a1e5",
   "metadata": {},
   "source": [
    "## Reshaping and Resizing"
   ]
  },
  {
   "cell_type": "code",
   "execution_count": 65,
   "id": "0702fe5a-2fd6-4ce9-8991-d250b0d4b4c8",
   "metadata": {},
   "outputs": [
    {
     "data": {
      "text/plain": [
       "array([ 1,  2,  3,  4,  5,  6,  7,  8,  9, 10, 11, 12, 13, 14, 15, 16, 17,\n",
       "       18, 19, 20, 21, 22, 23, 24, 25, 26, 27, 28, 29, 30])"
      ]
     },
     "execution_count": 65,
     "metadata": {},
     "output_type": "execute_result"
    }
   ],
   "source": [
    "arr = np.arange(1, 31)\n",
    "arr"
   ]
  },
  {
   "cell_type": "code",
   "execution_count": 66,
   "id": "cf890c1c-33b5-4d86-bd8b-d18016d0e322",
   "metadata": {},
   "outputs": [
    {
     "data": {
      "text/plain": [
       "array([[ 1,  2,  3,  4,  5],\n",
       "       [ 6,  7,  8,  9, 10],\n",
       "       [11, 12, 13, 14, 15],\n",
       "       [16, 17, 18, 19, 20],\n",
       "       [21, 22, 23, 24, 25],\n",
       "       [26, 27, 28, 29, 30]])"
      ]
     },
     "execution_count": 66,
     "metadata": {},
     "output_type": "execute_result"
    }
   ],
   "source": [
    "# reshape to matrix\n",
    "arr.reshape(6, 5)"
   ]
  }
 ],
 "metadata": {
  "kernelspec": {
   "display_name": "Python 3 (ipykernel)",
   "language": "python",
   "name": "python3"
  },
  "language_info": {
   "codemirror_mode": {
    "name": "ipython",
    "version": 3
   },
   "file_extension": ".py",
   "mimetype": "text/x-python",
   "name": "python",
   "nbconvert_exporter": "python",
   "pygments_lexer": "ipython3",
   "version": "3.13.3"
  }
 },
 "nbformat": 4,
 "nbformat_minor": 5
}
