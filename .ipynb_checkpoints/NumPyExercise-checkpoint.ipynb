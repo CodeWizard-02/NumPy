{
 "cells": [
  {
   "cell_type": "code",
   "execution_count": 1,
   "id": "573d7428-72db-4d2e-b0f3-a5a718afd778",
   "metadata": {},
   "outputs": [],
   "source": [
    "import numpy as np"
   ]
  },
  {
   "cell_type": "markdown",
   "id": "ffa082de-de78-48a8-baf1-c8d2dc3ac6a8",
   "metadata": {},
   "source": [
    "## Exercise"
   ]
  },
  {
   "cell_type": "code",
   "execution_count": 6,
   "id": "f0d0943b-58c9-40e9-a363-90f7cdc93b12",
   "metadata": {},
   "outputs": [],
   "source": [
    "# marks of students\n",
    "# columns: [Age, MathsMarks, ScienceMarks]\n",
    "data = np.array([\n",
    "    [18, 85, 78], # student 1\n",
    "    [19, 92, 88], # student 2\n",
    "    [17, 76, 95], # student 3\n",
    "    [18, 65, 70], # student 4\n",
    "    [20, 90, 85]  # student 5\n",
    "])"
   ]
  },
  {
   "cell_type": "code",
   "execution_count": 3,
   "id": "233c0a04-462d-4e25-b18c-aa54f3fd8adc",
   "metadata": {},
   "outputs": [
    {
     "data": {
      "text/plain": [
       "(5, 3)"
      ]
     },
     "execution_count": 3,
     "metadata": {},
     "output_type": "execute_result"
    }
   ],
   "source": [
    "# shape of matrix\n",
    "data.shape"
   ]
  },
  {
   "cell_type": "code",
   "execution_count": 16,
   "id": "7d9bffa5-33bc-41fd-be7d-26fb8534d122",
   "metadata": {},
   "outputs": [
    {
     "data": {
      "text/plain": [
       "np.float64(18.4)"
      ]
     },
     "execution_count": 16,
     "metadata": {},
     "output_type": "execute_result"
    }
   ],
   "source": [
    "# average age of students\n",
    "age = data[:, 0]\n",
    "avgAge = age.mean()\n",
    "avgAge"
   ]
  },
  {
   "cell_type": "code",
   "execution_count": 17,
   "id": "aa50e312-d62e-461b-9228-8f290e1ba7b5",
   "metadata": {},
   "outputs": [
    {
     "data": {
      "text/plain": [
       "array([85, 92, 76, 65, 90])"
      ]
     },
     "execution_count": 17,
     "metadata": {},
     "output_type": "execute_result"
    }
   ],
   "source": [
    "# extract math marks of all students\n",
    "mathsMarks = data[:, 1]\n",
    "mathsMarks"
   ]
  },
  {
   "cell_type": "code",
   "execution_count": 20,
   "id": "7d11d71c-6c2b-448a-850b-848800c8e52c",
   "metadata": {},
   "outputs": [
    {
     "data": {
      "text/plain": [
       "np.int64(95)"
      ]
     },
     "execution_count": 20,
     "metadata": {},
     "output_type": "execute_result"
    }
   ],
   "source": [
    "# extract highest Science marks\n",
    "scienceMarks = data[:, 2]\n",
    "highestMarks = scienceMarks.max()\n",
    "highestMarks"
   ]
  },
  {
   "cell_type": "code",
   "execution_count": 30,
   "id": "2d9d69ff-403c-423a-86df-bcc2c929f2eb",
   "metadata": {},
   "outputs": [
    {
     "data": {
      "text/plain": [
       "array([92, 90])"
      ]
     },
     "execution_count": 30,
     "metadata": {},
     "output_type": "execute_result"
    }
   ],
   "source": [
    "# extract students having MATH marks > 90\n",
    "highestMathMarks = data[:, 1]\n",
    "marks = highestMathMarks >= 90\n",
    "result = highestMathMarks[marks]\n",
    "result"
   ]
  },
  {
   "cell_type": "code",
   "execution_count": 34,
   "id": "00653e52-49b5-49c6-8686-2ece9e739daa",
   "metadata": {},
   "outputs": [
    {
     "data": {
      "text/plain": [
       "array([90, 97, 81, 70, 95])"
      ]
     },
     "execution_count": 34,
     "metadata": {},
     "output_type": "execute_result"
    }
   ],
   "source": [
    "# increase math marks of all students by 5\n",
    "newData = data.copy()\n",
    "newMathMarks = newData[:, 1]\n",
    "newMathMarks + 5"
   ]
  },
  {
   "cell_type": "code",
   "execution_count": 36,
   "id": "ee8a9e34-b050-4759-9eca-03aa93031db0",
   "metadata": {},
   "outputs": [
    {
     "data": {
      "text/plain": [
       "array([18, 17, 18])"
      ]
     },
     "execution_count": 36,
     "metadata": {},
     "output_type": "execute_result"
    }
   ],
   "source": [
    "# extract students younger than 19\n",
    "youngAge = data[:, 0]\n",
    "result = youngAge[youngAge < 19]\n",
    "result"
   ]
  },
  {
   "cell_type": "code",
   "execution_count": 42,
   "id": "a85ee321-545d-44f4-904c-83c15e9c1418",
   "metadata": {},
   "outputs": [
    {
     "data": {
      "text/plain": [
       "np.float64(83.2)"
      ]
     },
     "execution_count": 42,
     "metadata": {},
     "output_type": "execute_result"
    }
   ],
   "source": [
    "# extract the average of MATHS and SCIENCE\n",
    "avgMathsMarks = data[:, 1]\n",
    "avgScienceMarks = data[:, 2]\n",
    "meanMathMarks = avgMathsMarks.mean()\n",
    "meanScienceMarks = avgScienceMarks.mean()\n",
    "meanScienceMarks"
   ]
  },
  {
   "cell_type": "code",
   "execution_count": 47,
   "id": "63a916cc-2a29-4d51-827b-98b46ce21c70",
   "metadata": {},
   "outputs": [
    {
     "data": {
      "text/plain": [
       "array([[92, 88],\n",
       "       [90, 85]])"
      ]
     },
     "execution_count": 47,
     "metadata": {},
     "output_type": "execute_result"
    }
   ],
   "source": [
    "# extract students score atleast 80 in both subjects\n",
    "student = data[0:, 1:]\n",
    "condition = (student[:, 0] >= 80) & (student[:, 1] >= 80)\n",
    "result = student[condition]\n",
    "result"
   ]
  },
  {
   "cell_type": "code",
   "execution_count": 64,
   "id": "587bd6e6-7c9f-4ded-879e-7c36a92e5fed",
   "metadata": {},
   "outputs": [
    {
     "data": {
      "text/plain": [
       "0"
      ]
     },
     "execution_count": 64,
     "metadata": {},
     "output_type": "execute_result"
    }
   ],
   "source": [
    "# replace all SCIENCE marks < 70 with 0\n",
    "sliceData = newData[:, 2]\n",
    "condition = (sliceData <= 70)\n",
    "result = sliceData[condition] = 0\n",
    "result"
   ]
  }
 ],
 "metadata": {
  "kernelspec": {
   "display_name": "Python 3 (ipykernel)",
   "language": "python",
   "name": "python3"
  },
  "language_info": {
   "codemirror_mode": {
    "name": "ipython",
    "version": 3
   },
   "file_extension": ".py",
   "mimetype": "text/x-python",
   "name": "python",
   "nbconvert_exporter": "python",
   "pygments_lexer": "ipython3",
   "version": "3.13.3"
  }
 },
 "nbformat": 4,
 "nbformat_minor": 5
}
